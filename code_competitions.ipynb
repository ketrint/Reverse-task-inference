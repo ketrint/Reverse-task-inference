{
 "cells": [
  {
   "cell_type": "code",
   "execution_count": 1,
   "metadata": {},
   "outputs": [],
   "source": [
    "import pandas as pd"
   ]
  },
  {
   "cell_type": "code",
   "execution_count": 2,
   "metadata": {},
   "outputs": [],
   "source": [
    "df_comps = pd.read_csv('df_new_filtered.csv')\n",
    "data_type = pd.read_csv('./data_type_res/data_type.csv')\n",
    "descriptions = pd.read_csv('./desc_res/descriptions.csv')\n"
   ]
  },
  {
   "cell_type": "code",
   "execution_count": null,
   "metadata": {},
   "outputs": [],
   "source": [
    "print(df_comps['EvaluationAlgorithmAbbreviation'].unique().tolist())"
   ]
  },
  {
   "cell_type": "code",
   "execution_count": 54,
   "metadata": {},
   "outputs": [],
   "source": [
    "\n",
    "\n",
    "metric_dict = {\n",
    "    'NDCG@{K}':\"NDCG\",\n",
    "    'MeanColumnwiseMAE': 'mae',\n",
    "    'MWCRMSE': 'rmse',\n",
    "    'MeanColumnwiseLogLoss':'log_loss',\n",
    "    \"F_{Beta} (deprecated)\": \"F_Beta\",\n",
    "    \"MAP@{K}\": \"map\",\n",
    "    \"39243586\": \"mae\",\n",
    "    \"39244492\": \"roc_auc\",\n",
    "    \"39243584\": \"accuracy\",\n",
    "    \"36031993\":'smape',\n",
    "    \"34817366\":\"average_precision_score\",\n",
    "    \"39244032\":'accuracy',\n",
    "    \"35895758\": \"msle\",\n",
    "    \"34949109\": \"roc_auc\",\n",
    "    \"41308515\": \"RSNA\",\n",
    "    \"40581166\": 'word_error_rate',\n",
    "    \"39244216\": \"f1_score\",\n",
    "    \"39243534\": \"mse\",\n",
    "    \"39243604\": \"mae\",\n",
    "    \"39244296\":'log_loss',\n",
    "    'WeightedRecall@{K}':'recall'\n",
    "}"
   ]
  },
  {
   "cell_type": "code",
   "execution_count": null,
   "metadata": {},
   "outputs": [],
   "source": [
    "df_comps[df_comps['EvaluationAlgorithmAbbreviation']=='48030576']['EvaluationAlgorithmName']"
   ]
  },
  {
   "cell_type": "code",
   "execution_count": 53,
   "metadata": {},
   "outputs": [],
   "source": [
    "filt = ['AUC',\n",
    " 'R2Score',\n",
    " 'FScoreMacro',\n",
    " 'MCRMSLE',\n",
    " 'WeightedAUC',\n",
    " 'F_{Beta} (deprecated)',\n",
    " 'CategorizationAccuracy',\n",
    " \"JaccardFbeta\",\n",
    " 'MAP@{K}',\n",
    " 'FScoreMicro',\n",
    " 'RMSE',\n",
    " 'FScoreBetaMicro',\n",
    " 'Jaccard',\n",
    " 'MeanPearsonOld',\n",
    " 'MeanAngularError',\n",
    " 'MWCRMSE',\n",
    " 'WeightedRecall@{K}',\n",
    " 'LogLoss',\n",
    " 'MulticlassLoss',\n",
    " 'RMSLE',\n",
    " 'SMAPE',\n",
    " 'OpenImagesObjDetectionSegmentationAP',\n",
    " 'NDCG@{K}',\n",
    " 'WeightedCorrelationCoefficient',\n",
    " 'MeanColumnwiseLogLoss',\n",
    " 'RootMeanSquarePercentageError',\n",
    " 'PearsonCorrelationCoefficient',\n",
    " '39243586',\n",
    " 'MWCRMSE',\n",
    " 'MeanCosineSimilarity',\n",
    " 'MeanColumnwiseMAE'\n",
    " '39244492',\n",
    " '39243584',\n",
    " '36031993',\n",
    " '34817366',\n",
    " '39244032',\n",
    " '35895758',\n",
    " \"34949109\",\n",
    " \"41308515\",\n",
    " \"40581166\",\n",
    " \"39244216\",\n",
    " \"39243534\",\n",
    " \"39243604\",\n",
    " \"39244296\",\n",
    " \n",
    "]"
   ]
  },
  {
   "cell_type": "code",
   "execution_count": 55,
   "metadata": {},
   "outputs": [],
   "source": [
    "comps = data_type['comp_id'].unique().tolist()\n",
    "\n",
    "df_new_comps = df_comps[df_comps['Id'].isin(comps)]\n",
    "df_new_comps = df_new_comps[df_new_comps['EvaluationAlgorithmAbbreviation'].isin(filt)]"
   ]
  },
  {
   "cell_type": "code",
   "execution_count": null,
   "metadata": {},
   "outputs": [],
   "source": [
    "df_new_comps['EvaluationAlgorithmAbbreviation'].unique().tolist()"
   ]
  },
  {
   "cell_type": "code",
   "execution_count": 56,
   "metadata": {},
   "outputs": [],
   "source": [
    "df = df_new_comps"
   ]
  },
  {
   "cell_type": "code",
   "execution_count": null,
   "metadata": {},
   "outputs": [],
   "source": [
    "\n",
    "df[\"metric_type\"] = df[\"EvaluationAlgorithmAbbreviation\"].replace(metric_dict)\n",
    "\n",
    "df['EvaluationAlgorithmAbbreviation'] = df[\"EvaluationAlgorithmAbbreviation\"].replace(metric_dict)\n",
    "\n",
    "df = df.rename(\n",
    "    columns={\"HostSegmentTitle\": \"comp_type\", \"Subtitle\": \"subtitle\"}\n",
    ")\n",
    "\n",
    "# Select only desired columns after merging\n",
    "desired_columns = [\"EvaluationAlgorithmAbbreviation\", \"comp_type\", \"subtitle\", \"data_type\", \"description\", 'metric_type']\n",
    "\n",
    "# Merge data_type DataFrame (get first value)\n",
    "df = df.merge(\n",
    "    data_type[[\"comp_id\", \"data_type\"]].rename(columns={\"comp_id\": \"Id\"}).sort_values(\"Id\").drop_duplicates(\"Id\", keep=\"first\"),\n",
    "    on=\"Id\",\n",
    ")\n",
    "df[\"data_type\"] = df[\"data_type\"].str.lower()\n",
    "df[\"metric_type\"] = df[\"metric_type\"].str.lower()\n",
    "\n",
    "# Merge descriptions DataFrame (get first value)\n",
    "df = df.merge(\n",
    "    descriptions[[\"comp_id\", \"summary\"]].rename(columns={\"comp_id\": \"Id\"}).sort_values(\"Id\").drop_duplicates(\"Id\", keep=\"first\"),\n",
    "    on=\"Id\",\n",
    ")\n",
    "df = df.rename(columns={\"summary\": \"description\"})\n",
    "df = df.rename(columns={\"Title\": \"comp_name\"}).set_index(\"comp_name\")\n",
    "\n",
    "# Select only desired columns\n",
    "df = df[desired_columns]\n",
    "df"
   ]
  },
  {
   "cell_type": "code",
   "execution_count": 58,
   "metadata": {},
   "outputs": [],
   "source": [
    "df.to_csv('competitions_meta2.csv')"
   ]
  }
 ],
 "metadata": {
  "kernelspec": {
   "display_name": "dft",
   "language": "python",
   "name": "python3"
  },
  "language_info": {
   "codemirror_mode": {
    "name": "ipython",
    "version": 3
   },
   "file_extension": ".py",
   "mimetype": "text/x-python",
   "name": "python",
   "nbconvert_exporter": "python",
   "pygments_lexer": "ipython3",
   "version": "3.10.10 (main, Mar 21 2023, 13:41:39) [Clang 14.0.6 ]"
  },
  "orig_nbformat": 4,
  "vscode": {
   "interpreter": {
    "hash": "5950067a041123cfae9b8afdff6b16bc8fec5d05374a8d6fb0d0125f97bd877a"
   }
  }
 },
 "nbformat": 4,
 "nbformat_minor": 2
}
