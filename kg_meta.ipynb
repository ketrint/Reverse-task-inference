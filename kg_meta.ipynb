{
 "cells": [
  {
   "cell_type": "code",
   "execution_count": 1,
   "metadata": {},
   "outputs": [
    {
     "name": "stderr",
     "output_type": "stream",
     "text": [
      "/Users/emilsataev/opt/anaconda3/lib/python3.9/site-packages/pandas/core/computation/expressions.py:21: UserWarning: Pandas requires version '2.8.4' or newer of 'numexpr' (version '2.8.1' currently installed).\n",
      "  from pandas.core.computation.check import NUMEXPR_INSTALLED\n",
      "/Users/emilsataev/opt/anaconda3/lib/python3.9/site-packages/pandas/core/arrays/masked.py:60: UserWarning: Pandas requires version '1.3.6' or newer of 'bottleneck' (version '1.3.4' currently installed).\n",
      "  from pandas.core import (\n"
     ]
    }
   ],
   "source": [
    "import pandas as pd"
   ]
  },
  {
   "cell_type": "code",
   "execution_count": null,
   "metadata": {},
   "outputs": [],
   "source": [
    "df = pd.read_csv('notebooks_meta.csv')\n",
    "kernels = pd.read_csv('Kernels.csv')\n",
    "df_comps = pd.read_csv('df_new_filtered.csv')\n",
    "df.head()"
   ]
  },
  {
   "cell_type": "code",
   "execution_count": null,
   "metadata": {},
   "outputs": [],
   "source": [
    "kr_versions = pd.read_csv('KernelVersions.csv')\n",
    "kernels.head()"
   ]
  },
  {
   "cell_type": "code",
   "execution_count": 4,
   "metadata": {},
   "outputs": [],
   "source": [
    "df_submissions = pd.read_csv('Submissions.csv')\n"
   ]
  },
  {
   "cell_type": "code",
   "execution_count": 5,
   "metadata": {},
   "outputs": [],
   "source": [
    "df_users = pd.read_csv('Users.csv')"
   ]
  },
  {
   "cell_type": "code",
   "execution_count": null,
   "metadata": {},
   "outputs": [],
   "source": [
    "# Select only the relevant columns from df\n",
    "df_relevant = df[['CurrentKernelVersionId', 'CompetitionId', 'UserId', 'PrivateLeaderboardRank']]\n",
    "\n",
    "# Select only the relevant columns from kernels\n",
    "kernels_relevant = kernels[['CurrentKernelVersionId', 'TotalComments', 'TotalVotes', 'CurrentUrlSlug']]\n",
    "\n",
    "# Merge df with kernels to get kernel-related columns\n",
    "merged_df = df_relevant.merge(kernels_relevant, on='CurrentKernelVersionId', how='left')\n",
    "\n",
    "# Select only the relevant columns from df_comps\n",
    "df_comps_relevant = df_comps[['Id', 'Title']]\n",
    "\n",
    "# Merge the result with df_comps to get the competition name\n",
    "merged_df = merged_df.merge(df_comps_relevant, left_on='CompetitionId', right_on='Id', how='left')\n",
    "\n",
    "# Select only the relevant columns from df_submissions\n",
    "df_submissions_relevant = df_submissions[['SourceKernelVersionId', 'PublicScoreFullPrecision']]\n",
    "\n",
    "# Merge the result with df_submissions to get the kaggle_score\n",
    "merged_df = merged_df.merge(df_submissions_relevant, left_on='CurrentKernelVersionId', right_on='SourceKernelVersionId', how='left')\n",
    "\n",
    "# Select only the relevant columns from df_users\n",
    "df_users_relevant = df_users[['Id', 'UserName']]\n",
    "\n",
    "# Merge the result with df_users to get the UserName for kernel_link\n",
    "merged_df = merged_df.merge(df_users_relevant, left_on='UserId', right_on='Id', how='left')\n",
    "\n",
    "# Format kernel_link\n",
    "merged_df['kernel_link'] = '/' + merged_df['UserName'] + '/' + merged_df['CurrentUrlSlug']\n",
    "\n",
    "# Select and rename the required columns\n",
    "result_df = merged_df[['CurrentKernelVersionId', 'TotalComments', 'TotalVotes', 'kernel_link', 'Title', 'PublicScoreFullPrecision', 'PrivateLeaderboardRank']]\n",
    "result_df.columns = ['kernel_id', 'kaggle_comments', 'kaggle_upvotes', 'kernel_link', 'comp_name', 'kaggle_score', 'rank']\n",
    "\n",
    "# Set kernel_id as the index\n",
    "result_df.set_index('kernel_id', inplace=True)\n",
    "\n",
    "result_df"
   ]
  },
  {
   "cell_type": "code",
   "execution_count": 51,
   "metadata": {},
   "outputs": [],
   "source": [
    "result_df.to_csv('kernels_meta2.csv')"
   ]
  },
  {
   "cell_type": "code",
   "execution_count": 24,
   "metadata": {},
   "outputs": [],
   "source": [
    "df_relevant = df[['CurrentKernelVersionId', 'code', 'CleanCode']]\n",
    "\n",
    "df_relevant.columns = ['kernel_id', 'code', 'clean_code']\n",
    "\n",
    "df_relevant.set_index('kernel_id', inplace=True)\n",
    "\n",
    "df_relevant\n",
    "df_relevant.to_csv('code_blocks2.csv')"
   ]
  },
  {
   "cell_type": "code",
   "execution_count": 38,
   "metadata": {},
   "outputs": [],
   "source": [
    "import ast"
   ]
  },
  {
   "cell_type": "code",
   "execution_count": 47,
   "metadata": {},
   "outputs": [],
   "source": [
    "# Function to create a new dataframe with code blocks\n",
    "def create_code_blocks_df(df):\n",
    "    data = []\n",
    "    code_blocks_index = 0\n",
    "    for index, row in df.iterrows():\n",
    "        kernel_id = row['CurrentKernelVersionId']\n",
    "        code_blocks = ast.literal_eval(row['code'])\n",
    "        for code_block_id, code_block in enumerate(code_blocks):\n",
    "            data.append({\n",
    "                'code_blocks_index': code_blocks_index, \n",
    "                'kernel_id': kernel_id, \n",
    "                'code_block_id': code_block_id, \n",
    "                'code_block': code_block\n",
    "            })\n",
    "            code_blocks_index += 1\n",
    "    \n",
    "    result_df = pd.DataFrame(data)\n",
    "    result_df.set_index('code_blocks_index', inplace=True)\n",
    "    return result_df\n",
    "\n",
    "code_blocks_df = create_code_blocks_df(df)"
   ]
  },
  {
   "cell_type": "code",
   "execution_count": 49,
   "metadata": {},
   "outputs": [],
   "source": [
    "code_blocks_df.to_csv('code_blocks2.csv')"
   ]
  }
 ],
 "metadata": {
  "kernelspec": {
   "display_name": "base",
   "language": "python",
   "name": "python3"
  },
  "language_info": {
   "codemirror_mode": {
    "name": "ipython",
    "version": 3
   },
   "file_extension": ".py",
   "mimetype": "text/x-python",
   "name": "python",
   "nbconvert_exporter": "python",
   "pygments_lexer": "ipython3",
   "version": "3.9.12 (main, Apr  5 2022, 01:53:17) \n[Clang 12.0.0 ]"
  },
  "orig_nbformat": 4,
  "vscode": {
   "interpreter": {
    "hash": "29024237f3cf2b798da13c62267fd342f26c95ae61e1fc6a482548cb9f4afc55"
   }
  }
 },
 "nbformat": 4,
 "nbformat_minor": 2
}
