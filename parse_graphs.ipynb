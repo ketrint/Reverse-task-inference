{
 "cells": [
  {
   "cell_type": "code",
   "execution_count": 5,
   "metadata": {},
   "outputs": [],
   "source": [
    "import pandas as pd\n",
    "\n",
    "comps = pd.read_csv('Competitions.csv')\n",
    "notebooks = pd.read_csv('final_notebooks.csv')"
   ]
  },
  {
   "cell_type": "code",
   "execution_count": 19,
   "metadata": {},
   "outputs": [
    {
     "data": {
      "text/plain": [
       "251"
      ]
     },
     "execution_count": 19,
     "metadata": {},
     "output_type": "execute_result"
    }
   ],
   "source": [
    "len(notebooks['CompetitionId'].unique().tolist())"
   ]
  },
  {
   "cell_type": "code",
   "execution_count": 6,
   "metadata": {},
   "outputs": [],
   "source": [
    "def unpack_array(arr):\n",
    "    if isinstance(arr, list):\n",
    "        return [item for sublist in arr for item in (sublist if isinstance(sublist, list) else [sublist])]\n",
    "    else:\n",
    "        return arr"
   ]
  },
  {
   "cell_type": "code",
   "execution_count": 7,
   "metadata": {},
   "outputs": [],
   "source": [
    "import re\n",
    "\n",
    "def remove_comments_imports_prints(code):\n",
    "    # Split the code into lines\n",
    "    lines = code.split('\\n')\n",
    "    # Create an empty list to store the filtered lines\n",
    "    filtered_lines = []\n",
    "\n",
    "    # Flags for block comments\n",
    "    inside_block_comment = False\n",
    "\n",
    "    # Iterate over each line\n",
    "    for line in lines:\n",
    "        # Handle block comments\n",
    "        if \"'''\" in line:\n",
    "            inside_block_comment = not inside_block_comment\n",
    "            continue\n",
    "        if inside_block_comment:\n",
    "            continue\n",
    "\n",
    "        # Remove lines that start with an import statement\n",
    "        if line.strip().startswith(\"import\") or line.strip().startswith(\"from\"):\n",
    "            continue\n",
    "        # Remove lines that start with a print statement\n",
    "        if line.strip().startswith(\"print\"):\n",
    "            continue\n",
    "        if line.strip().startswith(\"plt\"):\n",
    "            continue\n",
    "        if line.strip().startswith(\"warnings\"):\n",
    "            continue\n",
    "        if line.strip().startswith(\"logging\"):\n",
    "            continue\n",
    "        if line.strip().startswith(\"display\"):\n",
    "            continue\n",
    "        if line.strip().startswith(\"filterwarnings\"):\n",
    "            continue\n",
    "        if line.strip().startswith(\"sns\"):\n",
    "            continue\n",
    "        if line.strip().startswith(\"random\"):\n",
    "            continue\n",
    "        # Remove lines that are comments\n",
    "        if re.match(r'\\s*#', line):\n",
    "            continue\n",
    "        if re.match(r'\\s*!', line):\n",
    "            continue\n",
    "        if re.match(r'\\s*%', line):\n",
    "            continue\n",
    "        if re.match(r'.*\\b(sns)\\b.*', line):\n",
    "            continue\n",
    "        # Remove lines that contain plotting statements\n",
    "        if re.match(r'.*\\.(plot|show|scatter|hist|imshow|figure|sns)\\(', line):\n",
    "            continue\n",
    "        # Add the line to the filtered lines list\n",
    "        filtered_lines.append(line)\n",
    "\n",
    "    # Join the filtered lines back into a single string\n",
    "    filtered_code = '\\n'.join(filtered_lines)\n",
    "\n",
    "    # Remove multiple consecutive newline characters\n",
    "    filtered_code = re.sub(r'\\n{2,}', '\\n', filtered_code)\n",
    "\n",
    "    return filtered_code"
   ]
  },
  {
   "cell_type": "code",
   "execution_count": 22,
   "metadata": {},
   "outputs": [],
   "source": [
    "good_notebooks = notebooks.dropna(subset=['code'])"
   ]
  },
  {
   "cell_type": "code",
   "execution_count": 23,
   "metadata": {},
   "outputs": [
    {
     "data": {
      "text/plain": [
       "251"
      ]
     },
     "execution_count": 23,
     "metadata": {},
     "output_type": "execute_result"
    }
   ],
   "source": [
    "len(good_notebooks['CompetitionId'].unique().tolist())"
   ]
  },
  {
   "cell_type": "code",
   "execution_count": null,
   "metadata": {},
   "outputs": [],
   "source": [
    "good_notebooks['code'] = good_notebooks['code'].apply(lambda x: unpack_array(eval(x)))\n",
    "good_notebooks['code'][1]"
   ]
  },
  {
   "cell_type": "code",
   "execution_count": null,
   "metadata": {},
   "outputs": [],
   "source": [
    "clean_code = []\n",
    "\n",
    "\n",
    "for i, row in good_notebooks.iterrows():\n",
    "    full_code = '\\n'.join(row['code'])\n",
    "    clean_code.append(remove_comments_imports_prints(full_code))\n",
    "\n",
    "\n",
    "good_notebooks['CleanCode'] = clean_code\n",
    "good_notebooks"
   ]
  },
  {
   "cell_type": "code",
   "execution_count": 11,
   "metadata": {},
   "outputs": [],
   "source": [
    "cl = []\n",
    "for index, row in good_notebooks.iterrows():\n",
    "    cl.append((index, row['CleanCode'].count('\\n')))\n"
   ]
  },
  {
   "cell_type": "code",
   "execution_count": 12,
   "metadata": {},
   "outputs": [
    {
     "name": "stdout",
     "output_type": "stream",
     "text": [
      "Min: [(218, 0), (237, 0), (420, 0), (511, 0), (912, 0), (1399, 0), (1849, 0), (2137, 0), (2584, 0), (2616, 0), (2877, 0), (3115, 0), (3147, 0), (3231, 0), (3274, 0), (3294, 0), (3482, 0), (3551, 0), (4219, 0), (4278, 0), (4422, 0), (5027, 0), (6035, 0), (6210, 0), (6786, 0), (6956, 0), (7003, 0), (7982, 0), (7988, 0), (8346, 0)]\n",
      "Max: [(653, 3150), (18021, 3112), (4291, 3040), (8662, 2607), (15042, 2452)]\n"
     ]
    }
   ],
   "source": [
    "from heapq import nsmallest, nlargest\n",
    "\n",
    "print(f'Min: {nsmallest(30, cl, key=lambda item: item[1])}\\nMax: {nlargest(5, cl, key=lambda item: item[1])}')"
   ]
  },
  {
   "cell_type": "code",
   "execution_count": 13,
   "metadata": {},
   "outputs": [
    {
     "name": "stderr",
     "output_type": "stream",
     "text": [
      "/var/folders/zh/dsbs1wbd72z81b85y9td6sx00000gn/T/ipykernel_30211/4059254357.py:2: UserWarning: Boolean Series key will be reindexed to match DataFrame index.\n",
      "  final = final[good_notebooks['CleanCode'].str.count('\\n') > 15]\n"
     ]
    }
   ],
   "source": [
    "final = good_notebooks[good_notebooks['CleanCode'].str.count('\\n') < 300]\n",
    "final = final[good_notebooks['CleanCode'].str.count('\\n') > 15]"
   ]
  },
  {
   "cell_type": "code",
   "execution_count": 14,
   "metadata": {},
   "outputs": [],
   "source": [
    "final.to_csv('notebooks_meta.csv')"
   ]
  },
  {
   "cell_type": "code",
   "execution_count": 15,
   "metadata": {},
   "outputs": [],
   "source": [
    "final['PrivateLeaderboardRank'] = final['PrivateLeaderboardRank'].astype(int)\n",
    "final_mini = final.loc[final.groupby('CompetitionId')['PrivateLeaderboardRank'].idxmin()]"
   ]
  },
  {
   "cell_type": "code",
   "execution_count": 17,
   "metadata": {},
   "outputs": [],
   "source": [
    "final_mini.to_csv('mini_meta.csv')"
   ]
  }
 ],
 "metadata": {
  "kernelspec": {
   "display_name": "dft",
   "language": "python",
   "name": "python3"
  },
  "language_info": {
   "codemirror_mode": {
    "name": "ipython",
    "version": 3
   },
   "file_extension": ".py",
   "mimetype": "text/x-python",
   "name": "python",
   "nbconvert_exporter": "python",
   "pygments_lexer": "ipython3",
   "version": "3.10.10"
  },
  "orig_nbformat": 4,
  "vscode": {
   "interpreter": {
    "hash": "5950067a041123cfae9b8afdff6b16bc8fec5d05374a8d6fb0d0125f97bd877a"
   }
  }
 },
 "nbformat": 4,
 "nbformat_minor": 2
}
